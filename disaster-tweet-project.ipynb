{
 "cells": [
  {
   "cell_type": "markdown",
   "id": "8a8bc397",
   "metadata": {
    "_cell_guid": "b1076dfc-b9ad-4769-8c92-a6c4dae69d19",
    "_uuid": "8f2839f25d086af736a60e9eeb907d3b93b6e0e5",
    "execution": {
     "iopub.execute_input": "2023-06-16T17:33:49.871670Z",
     "iopub.status.busy": "2023-06-16T17:33:49.871344Z",
     "iopub.status.idle": "2023-06-16T17:33:49.880263Z",
     "shell.execute_reply": "2023-06-16T17:33:49.878297Z",
     "shell.execute_reply.started": "2023-06-16T17:33:49.871648Z"
    },
    "papermill": {
     "duration": 0.016836,
     "end_time": "2023-06-16T18:32:30.179428",
     "exception": false,
     "start_time": "2023-06-16T18:32:30.162592",
     "status": "completed"
    },
    "tags": []
   },
   "source": [
    "# **# Brief description of the problem and data**\n",
    "# \n",
    "This notebook is based on the data from the kaggle competition: Natural Language Processing with Disaster Tweets.\n",
    "\n",
    "Problem:\n",
    "\n",
    "In this competition, you’re challenged to build a machine learning model that predicts which Tweets are about real disasters and which one’s aren’t. You’ll have access to a dataset of 10,000 tweets that were hand classified.\n",
    "\n",
    "Data:\n",
    "\n",
    "Each sample in the train and test set has the following information:\n",
    "\n",
    "\t id - a unique identifier for each tweet\n",
    "\n",
    "\t text - the text of the tweet\n",
    "\n",
    "\t location - the location the tweet was sent from (may be blank)\n",
    "\n",
    "\t keyword - a particular keyword from the tweet (may be blank)\n",
    "\n",
    "\t target - in train.csv only, this denotes whether a tweet is about a real disaster (1) or not (0)"
   ]
  },
  {
   "cell_type": "markdown",
   "id": "a72987df",
   "metadata": {
    "papermill": {
     "duration": 0.012228,
     "end_time": "2023-06-16T18:32:30.205212",
     "exception": false,
     "start_time": "2023-06-16T18:32:30.192984",
     "status": "completed"
    },
    "tags": []
   },
   "source": [
    "# Division of this Notebook:\n",
    "\n",
    "This notebook is split into 4 sections\n",
    "\n",
    "PART 1: Reading DATA\n",
    "\n",
    "PART 2: EDA --> Visualization of the text including word count \n",
    "\n",
    "PART 3: PREPROCESSING THE DATA SO THAT IT CAN BE USED IN OUR MODEL\n",
    "\n",
    "PART 4: BUILDING AND VALIDATING OUR MODEL"
   ]
  },
  {
   "cell_type": "markdown",
   "id": "136ef6e7",
   "metadata": {
    "papermill": {
     "duration": 0.011054,
     "end_time": "2023-06-16T18:32:30.227864",
     "exception": false,
     "start_time": "2023-06-16T18:32:30.216810",
     "status": "completed"
    },
    "tags": []
   },
   "source": [
    "# Methodology"
   ]
  },
  {
   "cell_type": "markdown",
   "id": "cd3973ab",
   "metadata": {
    "papermill": {
     "duration": 0.012905,
     "end_time": "2023-06-16T18:32:30.252095",
     "exception": false,
     "start_time": "2023-06-16T18:32:30.239190",
     "status": "completed"
    },
    "tags": []
   },
   "source": [
    "This methodology involves data preprocessing, tokenization, model architecture design, model training, prediction, and evaluation. Here I am leveraging the power of LSTM and GRU models to capture sequential information and make predictions on text data.\n",
    "The steps and methodology used for the LSTM and GRU models are as follows:\n",
    "\n",
    "1. Data Preprocessing: The first step is to preprocess the text data by removing unnecessary characters, converting text to lowercase, removing stopwords, and applying any other required text cleaning techniques. This helps in standardizing the input data and reducing noise.\n",
    "\n",
    "2. Tokenization: Next, the preprocessed text is tokenized, which involves splitting the text into individual words or tokens. This step helps in converting the textual data into a numerical representation that can be understood by the model.\n",
    "\n",
    "3. Sequence Padding: To ensure that all input sequences have the same length, padding is applied. In this step, sequences are either truncated or padded with zeros to match the desired sequence length. This is necessary for creating fixed-size input tensors for the models.\n",
    "\n",
    "4. Model Architecture: The models used in this scenario are LSTM and GRU, which are recurrent neural network (RNN) variants specifically designed for sequential data processing. \n",
    "    Both models have an embedding layer as the first layer, which learns the word embeddings for the input tokens. This is followed by one or more LSTM or GRU layers, which capture the sequential dependencies in the data. Finally, a dense layer with a sigmoid activation function is used for     binary classification.\n",
    "\n",
    "5. Compilation and Training: The models are compiled with the appropriate loss function, optimizer, and evaluation metric. In this case, binary cross-entropy loss is used as it is suitable for binary classification tasks. The models are then trained on the training data using the `fit` function. The number of epochs and batch size can be adjusted based on the dataset and computational resources. Here I saw that if I increase the epoch in GRU the model preiction improved to 77%.\n",
    "\n",
    "6. Prediction: Once the models are trained, they can be used to make predictions on new, unseen data. The `predict` function is used to obtain the predicted probabilities for each class. These probabilities can be thresholded (e.g., using 0.5) to obtain the predicted classes (0 or 1).\n",
    "\n",
    "7. Evaluation: To evaluate the performance of the models, a confusion matrix is computed using the true labels and predicted labels. The confusion matrix provides insights into the number of true positives, true negatives, false positives, and false negatives. Additionally, a heatmap visualization is created using the `sns.heatmap` function to make the confusion matrix more interpretable.\n",
    "\n"
   ]
  },
  {
   "cell_type": "markdown",
   "id": "6c6b4e1e",
   "metadata": {
    "papermill": {
     "duration": 0.011037,
     "end_time": "2023-06-16T18:32:30.274398",
     "exception": false,
     "start_time": "2023-06-16T18:32:30.263361",
     "status": "completed"
    },
    "tags": []
   },
   "source": [
    "# Importing All the required libraries "
   ]
  },
  {
   "cell_type": "code",
   "execution_count": 1,
   "id": "57d02938",
   "metadata": {
    "execution": {
     "iopub.execute_input": "2023-06-16T18:32:30.299259Z",
     "iopub.status.busy": "2023-06-16T18:32:30.298567Z",
     "iopub.status.idle": "2023-06-16T18:32:42.561705Z",
     "shell.execute_reply": "2023-06-16T18:32:42.560437Z"
    },
    "papermill": {
     "duration": 12.278333,
     "end_time": "2023-06-16T18:32:42.564019",
     "exception": false,
     "start_time": "2023-06-16T18:32:30.285686",
     "status": "completed"
    },
    "tags": []
   },
   "outputs": [
    {
     "name": "stderr",
     "output_type": "stream",
     "text": [
      "/opt/conda/lib/python3.10/site-packages/tensorflow_io/python/ops/__init__.py:98: UserWarning: unable to load libtensorflow_io_plugins.so: unable to open file: libtensorflow_io_plugins.so, from paths: ['/opt/conda/lib/python3.10/site-packages/tensorflow_io/python/ops/libtensorflow_io_plugins.so']\n",
      "caused by: ['/opt/conda/lib/python3.10/site-packages/tensorflow_io/python/ops/libtensorflow_io_plugins.so: undefined symbol: _ZN3tsl6StatusC1EN10tensorflow5error4CodeESt17basic_string_viewIcSt11char_traitsIcEENS_14SourceLocationE']\n",
      "  warnings.warn(f\"unable to load libtensorflow_io_plugins.so: {e}\")\n",
      "/opt/conda/lib/python3.10/site-packages/tensorflow_io/python/ops/__init__.py:104: UserWarning: file system plugins are not loaded: unable to open file: libtensorflow_io.so, from paths: ['/opt/conda/lib/python3.10/site-packages/tensorflow_io/python/ops/libtensorflow_io.so']\n",
      "caused by: ['/opt/conda/lib/python3.10/site-packages/tensorflow_io/python/ops/libtensorflow_io.so: undefined symbol: _ZTVN10tensorflow13GcsFileSystemE']\n",
      "  warnings.warn(f\"file system plugins are not loaded: {e}\")\n"
     ]
    },
    {
     "name": "stdout",
     "output_type": "stream",
     "text": [
      "2.12.0\n",
      "[nltk_data] Downloading package omw-1.4 to /usr/share/nltk_data...\n",
      "[nltk_data] Downloading package wordnet to /usr/share/nltk_data...\n",
      "[nltk_data]   Package wordnet is already up-to-date!\n"
     ]
    }
   ],
   "source": [
    "import numpy as np # linear algebra\n",
    "import pandas as pd # data processing, CSV file I/O (e.g. pd.read_csv)\n",
    "import seaborn as sns\n",
    "import matplotlib.pyplot as plt\n",
    "from sklearn.metrics import classification_report\n",
    "from sklearn.model_selection import train_test_split\n",
    "import tensorflow as tf\n",
    "print(tf.__version__)\n",
    "import tensorflow_hub as hub\n",
    "import keras_tuner as kt\n",
    "import tensorflow_text as tf_text\n",
    "import requests\n",
    "from pathlib import Path\n",
    "import nltk\n",
    "from nltk import WordNetLemmatizer\n",
    "from nltk.tokenize import word_tokenize\n",
    "from nltk.corpus import stopwords\n",
    "nltk.download('omw-1.4')\n",
    "nltk.download(\"wordnet\")\n",
    "from tensorflow.keras.models import Sequential\n",
    "from tensorflow.keras.layers import Dense, Embedding, LSTM, Dropout\n",
    "from tensorflow.keras import optimizers\n",
    "from tensorflow.keras.preprocessing.text import Tokenizer\n",
    "from tensorflow.keras.preprocessing.sequence import pad_sequences\n",
    "import subprocess\n",
    "import re\n",
    "from sklearn import metrics\n",
    "import warnings\n",
    "import string\n",
    "warnings.filterwarnings('ignore')\n",
    "from sklearn.metrics import confusion_matrix\n",
    "import seaborn as sns\n",
    "from tensorflow.keras.layers import Embedding, Dense, LSTM, GRU\n",
    "\n",
    "\n",
    "# Now you can import the NLTK resources as usual\n",
    "from nltk.corpus import wordnet\n"
   ]
  },
  {
   "cell_type": "markdown",
   "id": "8f091ca4",
   "metadata": {
    "papermill": {
     "duration": 0.011755,
     "end_time": "2023-06-16T18:32:42.589364",
     "exception": false,
     "start_time": "2023-06-16T18:32:42.577609",
     "status": "completed"
    },
    "tags": []
   },
   "source": [
    "Use this code when we get nltk error while lematizing the text"
   ]
  },
  {
   "cell_type": "code",
   "execution_count": 2,
   "id": "0c4afea9",
   "metadata": {
    "execution": {
     "iopub.execute_input": "2023-06-16T18:32:42.614630Z",
     "iopub.status.busy": "2023-06-16T18:32:42.613877Z",
     "iopub.status.idle": "2023-06-16T18:32:42.619203Z",
     "shell.execute_reply": "2023-06-16T18:32:42.617990Z"
    },
    "papermill": {
     "duration": 0.020386,
     "end_time": "2023-06-16T18:32:42.621357",
     "exception": false,
     "start_time": "2023-06-16T18:32:42.600971",
     "status": "completed"
    },
    "tags": []
   },
   "outputs": [],
   "source": [
    "\n",
    "# try:\n",
    "#     nltk.data.find('wordnet.zip')\n",
    "# except:\n",
    "#     nltk.download('wordnet', download_dir='/kaggle/working/')\n",
    "#     command = \"unzip /kaggle/working/corpora/wordnet.zip -d /kaggle/working/corpora\"\n",
    "#     subprocess.run(command.split())\n",
    "#     nltk.data.path.append('/kaggle/working/')\n",
    "\n",
    "# # Now you can import the NLTK resources as usual\n",
    "# from nltk.corpus import wordnet"
   ]
  },
  {
   "cell_type": "markdown",
   "id": "ca195008",
   "metadata": {
    "papermill": {
     "duration": 0.0114,
     "end_time": "2023-06-16T18:32:42.644549",
     "exception": false,
     "start_time": "2023-06-16T18:32:42.633149",
     "status": "completed"
    },
    "tags": []
   },
   "source": [
    "# Reading the files"
   ]
  },
  {
   "cell_type": "code",
   "execution_count": 3,
   "id": "432330df",
   "metadata": {
    "execution": {
     "iopub.execute_input": "2023-06-16T18:32:42.669865Z",
     "iopub.status.busy": "2023-06-16T18:32:42.668892Z",
     "iopub.status.idle": "2023-06-16T18:32:42.738820Z",
     "shell.execute_reply": "2023-06-16T18:32:42.737818Z"
    },
    "papermill": {
     "duration": 0.085097,
     "end_time": "2023-06-16T18:32:42.741165",
     "exception": false,
     "start_time": "2023-06-16T18:32:42.656068",
     "status": "completed"
    },
    "tags": []
   },
   "outputs": [],
   "source": [
    "train_tweetz = pd.read_csv(\"/kaggle/input/nlp-getting-started/train.csv\")\n",
    "test_tweetz = pd.read_csv(\"/kaggle/input/nlp-getting-started/test.csv\")"
   ]
  },
  {
   "cell_type": "markdown",
   "id": "be844cd9",
   "metadata": {
    "papermill": {
     "duration": 0.011344,
     "end_time": "2023-06-16T18:32:42.764354",
     "exception": false,
     "start_time": "2023-06-16T18:32:42.753010",
     "status": "completed"
    },
    "tags": []
   },
   "source": [
    "# Displaying the text"
   ]
  },
  {
   "cell_type": "code",
   "execution_count": 4,
   "id": "b8661667",
   "metadata": {
    "execution": {
     "iopub.execute_input": "2023-06-16T18:32:42.789664Z",
     "iopub.status.busy": "2023-06-16T18:32:42.789029Z",
     "iopub.status.idle": "2023-06-16T18:32:42.946059Z",
     "shell.execute_reply": "2023-06-16T18:32:42.945235Z"
    },
    "papermill": {
     "duration": 0.172254,
     "end_time": "2023-06-16T18:32:42.948314",
     "exception": false,
     "start_time": "2023-06-16T18:32:42.776060",
     "status": "completed"
    },
    "tags": []
   },
   "outputs": [
    {
     "data": {
      "text/html": [
       "<style type=\"text/css\">\n",
       "#T_0a7b8_row0_col0, #T_0a7b8_row0_col4, #T_0a7b8_row1_col4, #T_0a7b8_row2_col4, #T_0a7b8_row3_col4, #T_0a7b8_row4_col4 {\n",
       "  background-color: #3b4cc0;\n",
       "  color: #f1f1f1;\n",
       "}\n",
       "#T_0a7b8_row1_col0 {\n",
       "  background-color: #dddcdc;\n",
       "  color: #000000;\n",
       "}\n",
       "#T_0a7b8_row2_col0 {\n",
       "  background-color: #f7b89c;\n",
       "  color: #000000;\n",
       "}\n",
       "#T_0a7b8_row3_col0 {\n",
       "  background-color: #e7745b;\n",
       "  color: #f1f1f1;\n",
       "}\n",
       "#T_0a7b8_row4_col0 {\n",
       "  background-color: #b40426;\n",
       "  color: #f1f1f1;\n",
       "}\n",
       "</style>\n",
       "<table id=\"T_0a7b8\">\n",
       "  <thead>\n",
       "    <tr>\n",
       "      <th class=\"blank level0\" >&nbsp;</th>\n",
       "      <th id=\"T_0a7b8_level0_col0\" class=\"col_heading level0 col0\" >id</th>\n",
       "      <th id=\"T_0a7b8_level0_col1\" class=\"col_heading level0 col1\" >keyword</th>\n",
       "      <th id=\"T_0a7b8_level0_col2\" class=\"col_heading level0 col2\" >location</th>\n",
       "      <th id=\"T_0a7b8_level0_col3\" class=\"col_heading level0 col3\" >text</th>\n",
       "      <th id=\"T_0a7b8_level0_col4\" class=\"col_heading level0 col4\" >target</th>\n",
       "    </tr>\n",
       "  </thead>\n",
       "  <tbody>\n",
       "    <tr>\n",
       "      <th id=\"T_0a7b8_level0_row0\" class=\"row_heading level0 row0\" >0</th>\n",
       "      <td id=\"T_0a7b8_row0_col0\" class=\"data row0 col0\" >1</td>\n",
       "      <td id=\"T_0a7b8_row0_col1\" class=\"data row0 col1\" >nan</td>\n",
       "      <td id=\"T_0a7b8_row0_col2\" class=\"data row0 col2\" >nan</td>\n",
       "      <td id=\"T_0a7b8_row0_col3\" class=\"data row0 col3\" >Our Deeds are the Reason of this #earthquake May ALLAH Forgive us all</td>\n",
       "      <td id=\"T_0a7b8_row0_col4\" class=\"data row0 col4\" >1</td>\n",
       "    </tr>\n",
       "    <tr>\n",
       "      <th id=\"T_0a7b8_level0_row1\" class=\"row_heading level0 row1\" >1</th>\n",
       "      <td id=\"T_0a7b8_row1_col0\" class=\"data row1 col0\" >4</td>\n",
       "      <td id=\"T_0a7b8_row1_col1\" class=\"data row1 col1\" >nan</td>\n",
       "      <td id=\"T_0a7b8_row1_col2\" class=\"data row1 col2\" >nan</td>\n",
       "      <td id=\"T_0a7b8_row1_col3\" class=\"data row1 col3\" >Forest fire near La Ronge Sask. Canada</td>\n",
       "      <td id=\"T_0a7b8_row1_col4\" class=\"data row1 col4\" >1</td>\n",
       "    </tr>\n",
       "    <tr>\n",
       "      <th id=\"T_0a7b8_level0_row2\" class=\"row_heading level0 row2\" >2</th>\n",
       "      <td id=\"T_0a7b8_row2_col0\" class=\"data row2 col0\" >5</td>\n",
       "      <td id=\"T_0a7b8_row2_col1\" class=\"data row2 col1\" >nan</td>\n",
       "      <td id=\"T_0a7b8_row2_col2\" class=\"data row2 col2\" >nan</td>\n",
       "      <td id=\"T_0a7b8_row2_col3\" class=\"data row2 col3\" >All residents asked to 'shelter in place' are being notified by officers. No other evacuation or shelter in place orders are expected</td>\n",
       "      <td id=\"T_0a7b8_row2_col4\" class=\"data row2 col4\" >1</td>\n",
       "    </tr>\n",
       "    <tr>\n",
       "      <th id=\"T_0a7b8_level0_row3\" class=\"row_heading level0 row3\" >3</th>\n",
       "      <td id=\"T_0a7b8_row3_col0\" class=\"data row3 col0\" >6</td>\n",
       "      <td id=\"T_0a7b8_row3_col1\" class=\"data row3 col1\" >nan</td>\n",
       "      <td id=\"T_0a7b8_row3_col2\" class=\"data row3 col2\" >nan</td>\n",
       "      <td id=\"T_0a7b8_row3_col3\" class=\"data row3 col3\" >13,000 people receive #wildfires evacuation orders in California </td>\n",
       "      <td id=\"T_0a7b8_row3_col4\" class=\"data row3 col4\" >1</td>\n",
       "    </tr>\n",
       "    <tr>\n",
       "      <th id=\"T_0a7b8_level0_row4\" class=\"row_heading level0 row4\" >4</th>\n",
       "      <td id=\"T_0a7b8_row4_col0\" class=\"data row4 col0\" >7</td>\n",
       "      <td id=\"T_0a7b8_row4_col1\" class=\"data row4 col1\" >nan</td>\n",
       "      <td id=\"T_0a7b8_row4_col2\" class=\"data row4 col2\" >nan</td>\n",
       "      <td id=\"T_0a7b8_row4_col3\" class=\"data row4 col3\" >Just got sent this photo from Ruby #Alaska as smoke from #wildfires pours into a school </td>\n",
       "      <td id=\"T_0a7b8_row4_col4\" class=\"data row4 col4\" >1</td>\n",
       "    </tr>\n",
       "  </tbody>\n",
       "</table>\n"
      ],
      "text/plain": [
       "<pandas.io.formats.style.Styler at 0x781da616f940>"
      ]
     },
     "execution_count": 4,
     "metadata": {},
     "output_type": "execute_result"
    }
   ],
   "source": [
    "train_tweetz.head().style.background_gradient(cmap='coolwarm')"
   ]
  },
  {
   "cell_type": "code",
   "execution_count": 5,
   "id": "598950d5",
   "metadata": {
    "execution": {
     "iopub.execute_input": "2023-06-16T18:32:42.974807Z",
     "iopub.status.busy": "2023-06-16T18:32:42.974444Z",
     "iopub.status.idle": "2023-06-16T18:32:42.986670Z",
     "shell.execute_reply": "2023-06-16T18:32:42.985709Z"
    },
    "papermill": {
     "duration": 0.029542,
     "end_time": "2023-06-16T18:32:42.990199",
     "exception": false,
     "start_time": "2023-06-16T18:32:42.960657",
     "status": "completed"
    },
    "tags": []
   },
   "outputs": [
    {
     "data": {
      "text/html": [
       "<style type=\"text/css\">\n",
       "#T_7afb8_row0_col0 {\n",
       "  background-color: #3b4cc0;\n",
       "  color: #f1f1f1;\n",
       "}\n",
       "#T_7afb8_row1_col0 {\n",
       "  background-color: #7597f6;\n",
       "  color: #f1f1f1;\n",
       "}\n",
       "#T_7afb8_row2_col0 {\n",
       "  background-color: #94b6ff;\n",
       "  color: #000000;\n",
       "}\n",
       "#T_7afb8_row3_col0 {\n",
       "  background-color: #ea7b60;\n",
       "  color: #f1f1f1;\n",
       "}\n",
       "#T_7afb8_row4_col0 {\n",
       "  background-color: #b40426;\n",
       "  color: #f1f1f1;\n",
       "}\n",
       "</style>\n",
       "<table id=\"T_7afb8\">\n",
       "  <thead>\n",
       "    <tr>\n",
       "      <th class=\"blank level0\" >&nbsp;</th>\n",
       "      <th id=\"T_7afb8_level0_col0\" class=\"col_heading level0 col0\" >id</th>\n",
       "      <th id=\"T_7afb8_level0_col1\" class=\"col_heading level0 col1\" >keyword</th>\n",
       "      <th id=\"T_7afb8_level0_col2\" class=\"col_heading level0 col2\" >location</th>\n",
       "      <th id=\"T_7afb8_level0_col3\" class=\"col_heading level0 col3\" >text</th>\n",
       "    </tr>\n",
       "  </thead>\n",
       "  <tbody>\n",
       "    <tr>\n",
       "      <th id=\"T_7afb8_level0_row0\" class=\"row_heading level0 row0\" >0</th>\n",
       "      <td id=\"T_7afb8_row0_col0\" class=\"data row0 col0\" >0</td>\n",
       "      <td id=\"T_7afb8_row0_col1\" class=\"data row0 col1\" >nan</td>\n",
       "      <td id=\"T_7afb8_row0_col2\" class=\"data row0 col2\" >nan</td>\n",
       "      <td id=\"T_7afb8_row0_col3\" class=\"data row0 col3\" >Just happened a terrible car crash</td>\n",
       "    </tr>\n",
       "    <tr>\n",
       "      <th id=\"T_7afb8_level0_row1\" class=\"row_heading level0 row1\" >1</th>\n",
       "      <td id=\"T_7afb8_row1_col0\" class=\"data row1 col0\" >2</td>\n",
       "      <td id=\"T_7afb8_row1_col1\" class=\"data row1 col1\" >nan</td>\n",
       "      <td id=\"T_7afb8_row1_col2\" class=\"data row1 col2\" >nan</td>\n",
       "      <td id=\"T_7afb8_row1_col3\" class=\"data row1 col3\" >Heard about #earthquake is different cities, stay safe everyone.</td>\n",
       "    </tr>\n",
       "    <tr>\n",
       "      <th id=\"T_7afb8_level0_row2\" class=\"row_heading level0 row2\" >2</th>\n",
       "      <td id=\"T_7afb8_row2_col0\" class=\"data row2 col0\" >3</td>\n",
       "      <td id=\"T_7afb8_row2_col1\" class=\"data row2 col1\" >nan</td>\n",
       "      <td id=\"T_7afb8_row2_col2\" class=\"data row2 col2\" >nan</td>\n",
       "      <td id=\"T_7afb8_row2_col3\" class=\"data row2 col3\" >there is a forest fire at spot pond, geese are fleeing across the street, I cannot save them all</td>\n",
       "    </tr>\n",
       "    <tr>\n",
       "      <th id=\"T_7afb8_level0_row3\" class=\"row_heading level0 row3\" >3</th>\n",
       "      <td id=\"T_7afb8_row3_col0\" class=\"data row3 col0\" >9</td>\n",
       "      <td id=\"T_7afb8_row3_col1\" class=\"data row3 col1\" >nan</td>\n",
       "      <td id=\"T_7afb8_row3_col2\" class=\"data row3 col2\" >nan</td>\n",
       "      <td id=\"T_7afb8_row3_col3\" class=\"data row3 col3\" >Apocalypse lighting. #Spokane #wildfires</td>\n",
       "    </tr>\n",
       "    <tr>\n",
       "      <th id=\"T_7afb8_level0_row4\" class=\"row_heading level0 row4\" >4</th>\n",
       "      <td id=\"T_7afb8_row4_col0\" class=\"data row4 col0\" >11</td>\n",
       "      <td id=\"T_7afb8_row4_col1\" class=\"data row4 col1\" >nan</td>\n",
       "      <td id=\"T_7afb8_row4_col2\" class=\"data row4 col2\" >nan</td>\n",
       "      <td id=\"T_7afb8_row4_col3\" class=\"data row4 col3\" >Typhoon Soudelor kills 28 in China and Taiwan</td>\n",
       "    </tr>\n",
       "  </tbody>\n",
       "</table>\n"
      ],
      "text/plain": [
       "<pandas.io.formats.style.Styler at 0x781da5ed6110>"
      ]
     },
     "execution_count": 5,
     "metadata": {},
     "output_type": "execute_result"
    }
   ],
   "source": [
    "test_tweetz.head().style.background_gradient(cmap='coolwarm')"
   ]
  },
  {
   "cell_type": "code",
   "execution_count": 6,
   "id": "86616809",
   "metadata": {
    "execution": {
     "iopub.execute_input": "2023-06-16T18:32:43.016818Z",
     "iopub.status.busy": "2023-06-16T18:32:43.015854Z",
     "iopub.status.idle": "2023-06-16T18:32:43.029363Z",
     "shell.execute_reply": "2023-06-16T18:32:43.028390Z"
    },
    "papermill": {
     "duration": 0.029066,
     "end_time": "2023-06-16T18:32:43.031550",
     "exception": false,
     "start_time": "2023-06-16T18:32:43.002484",
     "status": "completed"
    },
    "tags": []
   },
   "outputs": [
    {
     "name": "stdout",
     "output_type": "stream",
     "text": [
      "Training set Null Counts: \n",
      " id             0\n",
      "keyword       61\n",
      "location    2533\n",
      "text           0\n",
      "target         0\n",
      "dtype: int64\n",
      "Training set Null Counts: \n",
      " id             0\n",
      "keyword       26\n",
      "location    1105\n",
      "text           0\n",
      "dtype: int64\n"
     ]
    }
   ],
   "source": [
    "print(\"Training set Null Counts: \\n\",train_tweetz.isnull().sum())\n",
    "print(\"Training set Null Counts: \\n\",test_tweetz.isnull().sum())"
   ]
  },
  {
   "cell_type": "markdown",
   "id": "36d9df3e",
   "metadata": {
    "papermill": {
     "duration": 0.011908,
     "end_time": "2023-06-16T18:32:43.055810",
     "exception": false,
     "start_time": "2023-06-16T18:32:43.043902",
     "status": "completed"
    },
    "tags": []
   },
   "source": [
    "# Visualization of Word Count and Character count "
   ]
  },
  {
   "cell_type": "markdown",
   "id": "5a9effb4",
   "metadata": {
    "papermill": {
     "duration": 0.011964,
     "end_time": "2023-06-16T18:32:43.079876",
     "exception": false,
     "start_time": "2023-06-16T18:32:43.067912",
     "status": "completed"
    },
    "tags": []
   },
   "source": [
    "Creating a New DF just to show word and character count before the processing of text:"
   ]
  },
  {
   "cell_type": "code",
   "execution_count": 7,
   "id": "531298af",
   "metadata": {
    "execution": {
     "iopub.execute_input": "2023-06-16T18:32:43.106611Z",
     "iopub.status.busy": "2023-06-16T18:32:43.106008Z",
     "iopub.status.idle": "2023-06-16T18:32:43.133703Z",
     "shell.execute_reply": "2023-06-16T18:32:43.132850Z"
    },
    "papermill": {
     "duration": 0.043961,
     "end_time": "2023-06-16T18:32:43.136062",
     "exception": false,
     "start_time": "2023-06-16T18:32:43.092101",
     "status": "completed"
    },
    "tags": []
   },
   "outputs": [],
   "source": [
    "newdf_train = train_tweetz.copy()\n",
    "newdf_train['word count'] = train_tweetz['text'].apply(lambda row: len(row.split()))\n",
    "newdf_train['char count'] = train_tweetz['text'].apply(lambda row: len(row))\n",
    "newdf_train['word count'] = test_tweetz['text'].apply(lambda row: len(row.split()))\n",
    "newdf_train['char count'] = test_tweetz['text'].apply(lambda row: len(row))"
   ]
  },
  {
   "cell_type": "code",
   "execution_count": 8,
   "id": "c58017c1",
   "metadata": {
    "execution": {
     "iopub.execute_input": "2023-06-16T18:32:43.163133Z",
     "iopub.status.busy": "2023-06-16T18:32:43.162524Z",
     "iopub.status.idle": "2023-06-16T18:32:43.172857Z",
     "shell.execute_reply": "2023-06-16T18:32:43.171775Z"
    },
    "papermill": {
     "duration": 0.026934,
     "end_time": "2023-06-16T18:32:43.175289",
     "exception": false,
     "start_time": "2023-06-16T18:32:43.148355",
     "status": "completed"
    },
    "tags": []
   },
   "outputs": [],
   "source": [
    "## Here I am making 2 helper functions that will take text and type of plot that is needed\n",
    "def plotter(train,grah_plot):\n",
    "    if grah_plot == 'Word Count':\n",
    "\n",
    "        \n",
    "        ax2 = sns.displot(\n",
    "            data = train,\n",
    "            x = 'word count',\n",
    "            hue = 'target',\n",
    "            palette = 'colorblind',\n",
    "            kde = True,\n",
    "            alpha = 0.6,\n",
    "            legend = True,\n",
    "            ).set(\n",
    "                title = 'Train set: Text length by Target (# of characterts before cleaning)');\n",
    "    elif grah_plot == 'Char Count':\n",
    "\n",
    "        \n",
    "        ax2 = sns.displot(\n",
    "            data = train,\n",
    "            x = 'char count',\n",
    "            hue = 'target',\n",
    "            palette = 'colorblind',\n",
    "            kde = True,\n",
    "            alpha = 0.6,\n",
    "            legend = True,\n",
    "            ).set(\n",
    "                title = 'Train set: Text length by Target (# of characterts before cleaning)');\n",
    "\n",
    "        \n",
    "    elif grah_plot == 'Category':\n",
    "        \n",
    "\n",
    "        train['Category'].value_counts()[train['Category'].unique()].plot.barh(stacked=True)\n",
    "\n",
    "    else:\n",
    "\n",
    "\n",
    "        plt.pie(train['target'].value_counts(), labels=[\"No Disaster\",\"Disaster\"],autopct=\"%.3f%%\")\n",
    "        \n",
    "## This helper function shows the top 50 disastrous and non-disastrous tweets\n",
    "def ploty(disaster,nondisaster):\n",
    "    fig, ax = plt.subplots(1,2, figsize=(50,8))\n",
    "    sns.barplot(y=disaster[0:50].index, x=disaster[0:50], orient='h', ax=ax[0], palette=\"Reds_d\")\n",
    "    ax[0].set_title(\"Top 50 Keywords - Disaster Tweets\")\n",
    "    ax[0].set_xlabel(\"Keyword Frequency\")\n",
    "\n",
    "    sns.barplot(y=nondisaster[0:50].index, x=nondisaster[0:50], orient='h', ax=ax[1], palette=\"Blues_d\")\n",
    "    ax[1].set_title(\"Top 50 Keywords - Non-Disaster Tweets\")\n",
    "    ax[1].set_xlabel(\"Keyword Frequency\")\n",
    "\n",
    "\n",
    "    plt.tight_layout()\n",
    "    plt.show()"
   ]
  },
  {
   "cell_type": "code",
   "execution_count": 9,
   "id": "aa7cff7d",
   "metadata": {
    "execution": {
     "iopub.execute_input": "2023-06-16T18:32:43.201963Z",
     "iopub.status.busy": "2023-06-16T18:32:43.201593Z",
     "iopub.status.idle": "2023-06-16T18:32:43.920761Z",
     "shell.execute_reply": "2023-06-16T18:32:43.919577Z"
    },
    "papermill": {
     "duration": 0.735678,
     "end_time": "2023-06-16T18:32:43.923274",
     "exception": false,
     "start_time": "2023-06-16T18:32:43.187596",
     "status": "completed"
    },
    "tags": []
   },
   "outputs": [
    {
     "data": {
      "image/png": "[encoded data removed]",
      "text/plain": [
       "<Figure size 558.875x500 with 1 Axes>"
      ]
     },
     "metadata": {},
     "output_type": "display_data"
    }
   ],
   "source": [
    "plotter(newdf_train,'Word Count')"
   ]
  },
  {
   "cell_type": "code",
   "execution_count": 10,
   "id": "94b43661",
   "metadata": {
    "execution": {
     "iopub.execute_input": "2023-06-16T18:32:43.952324Z",
     "iopub.status.busy": "2023-06-16T18:32:43.951958Z",
     "iopub.status.idle": "2023-06-16T18:32:43.973151Z",
     "shell.execute_reply": "2023-06-16T18:32:43.971915Z"
    },
    "papermill": {
     "duration": 0.038606,
     "end_time": "2023-06-16T18:32:43.975724",
     "exception": false,
     "start_time": "2023-06-16T18:32:43.937118",
     "status": "completed"
    },
    "tags": []
   },
   "outputs": [],
   "source": [
    "disaster = train_tweetz.loc[train_tweetz[\"target\"] == 1][\"keyword\"].value_counts()\n",
    "nondisaster =train_tweetz.loc[train_tweetz[\"target\"] == 0][\"keyword\"].value_counts()\n",
    "\n",
    "\n",
    "top_disaster_keyword = train_tweetz.groupby('keyword').mean()['target'].sort_values(ascending = False).head(20)\n",
    "top_nondisaster_keyword = train_tweetz.groupby('keyword').mean()['target'].sort_values().head(20)"
   ]
  },
  {
   "cell_type": "markdown",
   "id": "65d4ed03",
   "metadata": {
    "papermill": {
     "duration": 0.012942,
     "end_time": "2023-06-16T18:32:44.002539",
     "exception": false,
     "start_time": "2023-06-16T18:32:43.989597",
     "status": "completed"
    },
    "tags": []
   },
   "source": [
    "# Pre Processing the Text \n",
    "\n",
    "Here I will be removing all the punctuations, url and stop words"
   ]
  },
  {
   "cell_type": "code",
   "execution_count": 11,
   "id": "93af5b16",
   "metadata": {
    "execution": {
     "iopub.execute_input": "2023-06-16T18:32:44.030981Z",
     "iopub.status.busy": "2023-06-16T18:32:44.030591Z",
     "iopub.status.idle": "2023-06-16T18:32:44.037238Z",
     "shell.execute_reply": "2023-06-16T18:32:44.036013Z"
    },
    "papermill": {
     "duration": 0.023676,
     "end_time": "2023-06-16T18:32:44.039325",
     "exception": false,
     "start_time": "2023-06-16T18:32:44.015649",
     "status": "completed"
    },
    "tags": []
   },
   "outputs": [],
   "source": [
    "def preprocess_text(text):\n",
    "    # Remove URLs\n",
    "    text = re.sub(r'http\\S+|www\\S+|https\\S+', '', text, flags=re.MULTILINE)\n",
    "\n",
    "    # Remove punctuations and emojis\n",
    "    text = text.translate(str.maketrans('', '', string.punctuation))\n",
    "    text = text.encode('ascii', 'ignore').decode('ascii')\n",
    "\n",
    "    # Tokenize text into words\n",
    "    tokens = word_tokenize(text)\n",
    "\n",
    "    # Remove stop words\n",
    "    stop_words = set(stopwords.words('english'))\n",
    "    filtered_tokens = [word for word in tokens if word.lower() not in stop_words]\n",
    "\n",
    "    # Join the tokens back into a single text\n",
    "    processed_text = ' '.join(filtered_tokens)\n",
    "\n",
    "    return processed_text"
   ]
  },
  {
   "cell_type": "code",
   "execution_count": 12,
   "id": "7feaf528",
   "metadata": {
    "execution": {
     "iopub.execute_input": "2023-06-16T18:32:44.067275Z",
     "iopub.status.busy": "2023-06-16T18:32:44.066740Z",
     "iopub.status.idle": "2023-06-16T18:32:47.398248Z",
     "shell.execute_reply": "2023-06-16T18:32:47.397244Z"
    },
    "papermill": {
     "duration": 3.348532,
     "end_time": "2023-06-16T18:32:47.400980",
     "exception": false,
     "start_time": "2023-06-16T18:32:44.052448",
     "status": "completed"
    },
    "tags": []
   },
   "outputs": [],
   "source": [
    "train_tweetz['text'] = train_tweetz['text'].apply(preprocess_text)\n",
    "test_tweetz['text'] = test_tweetz['text'].apply(preprocess_text)"
   ]
  },
  {
   "cell_type": "code",
   "execution_count": 13,
   "id": "51b70243",
   "metadata": {
    "execution": {
     "iopub.execute_input": "2023-06-16T18:32:47.429581Z",
     "iopub.status.busy": "2023-06-16T18:32:47.429184Z",
     "iopub.status.idle": "2023-06-16T18:32:47.455548Z",
     "shell.execute_reply": "2023-06-16T18:32:47.454470Z"
    },
    "papermill": {
     "duration": 0.043255,
     "end_time": "2023-06-16T18:32:47.457828",
     "exception": false,
     "start_time": "2023-06-16T18:32:47.414573",
     "status": "completed"
    },
    "tags": []
   },
   "outputs": [],
   "source": [
    "newdf1_train = train_tweetz.copy()\n",
    "newdf1_train['word count'] = train_tweetz['text'].apply(lambda row: len(row.split()))\n",
    "newdf1_train['char count'] = train_tweetz['text'].apply(lambda row: len(row))\n",
    "newdf1_train['word count'] = test_tweetz['text'].apply(lambda row: len(row.split()))\n",
    "newdf1_train['char count'] = test_tweetz['text'].apply(lambda row: len(row))"
   ]
  },
  {
   "cell_type": "code",
   "execution_count": 14,
   "id": "01315fa0",
   "metadata": {
    "execution": {
     "iopub.execute_input": "2023-06-16T18:32:47.486007Z",
     "iopub.status.busy": "2023-06-16T18:32:47.485619Z",
     "iopub.status.idle": "2023-06-16T18:32:48.201969Z",
     "shell.execute_reply": "2023-06-16T18:32:48.200908Z"
    },
    "papermill": {
     "duration": 0.733537,
     "end_time": "2023-06-16T18:32:48.204465",
     "exception": false,
     "start_time": "2023-06-16T18:32:47.470928",
     "status": "completed"
    },
    "tags": []
   },
   "outputs": [
    {
     "data": {
      "image/png": "[encoded data removed]",
      "text/plain": [
       "<Figure size 558.875x500 with 1 Axes>"
      ]
     },
     "metadata": {},
     "output_type": "display_data"
    }
   ],
   "source": [
    "plotter(newdf1_train,'Word Count')"
   ]
  },
  {
   "cell_type": "code",
   "execution_count": 15,
   "id": "8673fac0",
   "metadata": {
    "execution": {
     "iopub.execute_input": "2023-06-16T18:32:48.233814Z",
     "iopub.status.busy": "2023-06-16T18:32:48.233404Z",
     "iopub.status.idle": "2023-06-16T18:32:48.249794Z",
     "shell.execute_reply": "2023-06-16T18:32:48.248558Z"
    },
    "papermill": {
     "duration": 0.033929,
     "end_time": "2023-06-16T18:32:48.252251",
     "exception": false,
     "start_time": "2023-06-16T18:32:48.218322",
     "status": "completed"
    },
    "tags": []
   },
   "outputs": [
    {
     "data": {
      "text/html": [
       "<style type=\"text/css\">\n",
       "#T_11856_row0_col0, #T_11856_row0_col4, #T_11856_row1_col4, #T_11856_row2_col4, #T_11856_row3_col4, #T_11856_row4_col4 {\n",
       "  background-color: #3b4cc0;\n",
       "  color: #f1f1f1;\n",
       "}\n",
       "#T_11856_row1_col0 {\n",
       "  background-color: #dddcdc;\n",
       "  color: #000000;\n",
       "}\n",
       "#T_11856_row2_col0 {\n",
       "  background-color: #f7b89c;\n",
       "  color: #000000;\n",
       "}\n",
       "#T_11856_row3_col0 {\n",
       "  background-color: #e7745b;\n",
       "  color: #f1f1f1;\n",
       "}\n",
       "#T_11856_row4_col0 {\n",
       "  background-color: #b40426;\n",
       "  color: #f1f1f1;\n",
       "}\n",
       "</style>\n",
       "<table id=\"T_11856\">\n",
       "  <thead>\n",
       "    <tr>\n",
       "      <th class=\"blank level0\" >&nbsp;</th>\n",
       "      <th id=\"T_11856_level0_col0\" class=\"col_heading level0 col0\" >id</th>\n",
       "      <th id=\"T_11856_level0_col1\" class=\"col_heading level0 col1\" >keyword</th>\n",
       "      <th id=\"T_11856_level0_col2\" class=\"col_heading level0 col2\" >location</th>\n",
       "      <th id=\"T_11856_level0_col3\" class=\"col_heading level0 col3\" >text</th>\n",
       "      <th id=\"T_11856_level0_col4\" class=\"col_heading level0 col4\" >target</th>\n",
       "    </tr>\n",
       "  </thead>\n",
       "  <tbody>\n",
       "    <tr>\n",
       "      <th id=\"T_11856_level0_row0\" class=\"row_heading level0 row0\" >0</th>\n",
       "      <td id=\"T_11856_row0_col0\" class=\"data row0 col0\" >1</td>\n",
       "      <td id=\"T_11856_row0_col1\" class=\"data row0 col1\" >nan</td>\n",
       "      <td id=\"T_11856_row0_col2\" class=\"data row0 col2\" >nan</td>\n",
       "      <td id=\"T_11856_row0_col3\" class=\"data row0 col3\" >Deeds Reason earthquake May ALLAH Forgive us</td>\n",
       "      <td id=\"T_11856_row0_col4\" class=\"data row0 col4\" >1</td>\n",
       "    </tr>\n",
       "    <tr>\n",
       "      <th id=\"T_11856_level0_row1\" class=\"row_heading level0 row1\" >1</th>\n",
       "      <td id=\"T_11856_row1_col0\" class=\"data row1 col0\" >4</td>\n",
       "      <td id=\"T_11856_row1_col1\" class=\"data row1 col1\" >nan</td>\n",
       "      <td id=\"T_11856_row1_col2\" class=\"data row1 col2\" >nan</td>\n",
       "      <td id=\"T_11856_row1_col3\" class=\"data row1 col3\" >Forest fire near La Ronge Sask Canada</td>\n",
       "      <td id=\"T_11856_row1_col4\" class=\"data row1 col4\" >1</td>\n",
       "    </tr>\n",
       "    <tr>\n",
       "      <th id=\"T_11856_level0_row2\" class=\"row_heading level0 row2\" >2</th>\n",
       "      <td id=\"T_11856_row2_col0\" class=\"data row2 col0\" >5</td>\n",
       "      <td id=\"T_11856_row2_col1\" class=\"data row2 col1\" >nan</td>\n",
       "      <td id=\"T_11856_row2_col2\" class=\"data row2 col2\" >nan</td>\n",
       "      <td id=\"T_11856_row2_col3\" class=\"data row2 col3\" >residents asked shelter place notified officers evacuation shelter place orders expected</td>\n",
       "      <td id=\"T_11856_row2_col4\" class=\"data row2 col4\" >1</td>\n",
       "    </tr>\n",
       "    <tr>\n",
       "      <th id=\"T_11856_level0_row3\" class=\"row_heading level0 row3\" >3</th>\n",
       "      <td id=\"T_11856_row3_col0\" class=\"data row3 col0\" >6</td>\n",
       "      <td id=\"T_11856_row3_col1\" class=\"data row3 col1\" >nan</td>\n",
       "      <td id=\"T_11856_row3_col2\" class=\"data row3 col2\" >nan</td>\n",
       "      <td id=\"T_11856_row3_col3\" class=\"data row3 col3\" >13000 people receive wildfires evacuation orders California</td>\n",
       "      <td id=\"T_11856_row3_col4\" class=\"data row3 col4\" >1</td>\n",
       "    </tr>\n",
       "    <tr>\n",
       "      <th id=\"T_11856_level0_row4\" class=\"row_heading level0 row4\" >4</th>\n",
       "      <td id=\"T_11856_row4_col0\" class=\"data row4 col0\" >7</td>\n",
       "      <td id=\"T_11856_row4_col1\" class=\"data row4 col1\" >nan</td>\n",
       "      <td id=\"T_11856_row4_col2\" class=\"data row4 col2\" >nan</td>\n",
       "      <td id=\"T_11856_row4_col3\" class=\"data row4 col3\" >got sent photo Ruby Alaska smoke wildfires pours school</td>\n",
       "      <td id=\"T_11856_row4_col4\" class=\"data row4 col4\" >1</td>\n",
       "    </tr>\n",
       "  </tbody>\n",
       "</table>\n"
      ],
      "text/plain": [
       "<pandas.io.formats.style.Styler at 0x781da5ec8040>"
      ]
     },
     "execution_count": 15,
     "metadata": {},
     "output_type": "execute_result"
    }
   ],
   "source": [
    "train_tweetz.head().style.background_gradient(cmap='coolwarm')"
   ]
  },
  {
   "cell_type": "code",
   "execution_count": 16,
   "id": "456ac47f",
   "metadata": {
    "execution": {
     "iopub.execute_input": "2023-06-16T18:32:48.282739Z",
     "iopub.status.busy": "2023-06-16T18:32:48.281902Z",
     "iopub.status.idle": "2023-06-16T18:32:50.070071Z",
     "shell.execute_reply": "2023-06-16T18:32:50.069264Z"
    },
    "papermill": {
     "duration": 1.806637,
     "end_time": "2023-06-16T18:32:50.073256",
     "exception": false,
     "start_time": "2023-06-16T18:32:48.266619",
     "status": "completed"
    },
    "tags": []
   },
   "outputs": [
    {
     "data": {
      "image/png": "[encoded data removed]",
      "text/plain": [
       "<Figure size 5000x800 with 2 Axes>"
      ]
     },
     "metadata": {},
     "output_type": "display_data"
    }
   ],
   "source": [
    "ploty(disaster,nondisaster)"
   ]
  },
  {
   "cell_type": "markdown",
   "id": "4ee18f57",
   "metadata": {
    "papermill": {
     "duration": 0.016432,
     "end_time": "2023-06-16T18:32:50.106890",
     "exception": false,
     "start_time": "2023-06-16T18:32:50.090458",
     "status": "completed"
    },
    "tags": []
   },
   "source": []
  },
  {
   "cell_type": "markdown",
   "id": "b3b8a9ef",
   "metadata": {
    "execution": {
     "iopub.execute_input": "2023-06-16T17:36:22.254102Z",
     "iopub.status.busy": "2023-06-16T17:36:22.253705Z",
     "iopub.status.idle": "2023-06-16T17:36:22.531514Z",
     "shell.execute_reply": "2023-06-16T17:36:22.529612Z",
     "shell.execute_reply.started": "2023-06-16T17:36:22.254073Z"
    },
    "papermill": {
     "duration": 0.016263,
     "end_time": "2023-06-16T18:32:50.139776",
     "exception": false,
     "start_time": "2023-06-16T18:32:50.123513",
     "status": "completed"
    },
    "tags": []
   },
   "source": [
    "# Convert text to sequences using tokenizer\n"
   ]
  },
  {
   "cell_type": "code",
   "execution_count": 17,
   "id": "64a8c8ec",
   "metadata": {
    "execution": {
     "iopub.execute_input": "2023-06-16T18:32:50.176400Z",
     "iopub.status.busy": "2023-06-16T18:32:50.175989Z",
     "iopub.status.idle": "2023-06-16T18:32:50.180870Z",
     "shell.execute_reply": "2023-06-16T18:32:50.179777Z"
    },
    "papermill": {
     "duration": 0.025751,
     "end_time": "2023-06-16T18:32:50.183039",
     "exception": false,
     "start_time": "2023-06-16T18:32:50.157288",
     "status": "completed"
    },
    "tags": []
   },
   "outputs": [],
   "source": [
    "max_features=3000"
   ]
  },
  {
   "cell_type": "code",
   "execution_count": 18,
   "id": "0944024a",
   "metadata": {
    "execution": {
     "iopub.execute_input": "2023-06-16T18:32:50.218190Z",
     "iopub.status.busy": "2023-06-16T18:32:50.217797Z",
     "iopub.status.idle": "2023-06-16T18:32:50.492259Z",
     "shell.execute_reply": "2023-06-16T18:32:50.491109Z"
    },
    "papermill": {
     "duration": 0.294963,
     "end_time": "2023-06-16T18:32:50.494847",
     "exception": false,
     "start_time": "2023-06-16T18:32:50.199884",
     "status": "completed"
    },
    "tags": []
   },
   "outputs": [],
   "source": [
    "# using tokenizer to convert the text into tokens\n",
    "tokenizer=Tokenizer(num_words=max_features,split=' ')\n",
    "tokenizer.fit_on_texts(train_tweetz['text'].values)\n",
    "train_data_padded = tokenizer.texts_to_sequences(train_tweetz['text'].values)\n",
    "train_data_padded = pad_sequences(train_data_padded)\n"
   ]
  },
  {
   "cell_type": "code",
   "execution_count": 19,
   "id": "9b714887",
   "metadata": {
    "execution": {
     "iopub.execute_input": "2023-06-16T18:32:50.530595Z",
     "iopub.status.busy": "2023-06-16T18:32:50.530172Z",
     "iopub.status.idle": "2023-06-16T18:32:50.536895Z",
     "shell.execute_reply": "2023-06-16T18:32:50.535820Z"
    },
    "papermill": {
     "duration": 0.027195,
     "end_time": "2023-06-16T18:32:50.539169",
     "exception": false,
     "start_time": "2023-06-16T18:32:50.511974",
     "status": "completed"
    },
    "tags": []
   },
   "outputs": [
    {
     "data": {
      "text/plain": [
       "(7613, 20)"
      ]
     },
     "execution_count": 19,
     "metadata": {},
     "output_type": "execute_result"
    }
   ],
   "source": [
    "train_data_padded.shape"
   ]
  },
  {
   "cell_type": "code",
   "execution_count": 20,
   "id": "5702d3fb",
   "metadata": {
    "execution": {
     "iopub.execute_input": "2023-06-16T18:32:50.575612Z",
     "iopub.status.busy": "2023-06-16T18:32:50.575215Z",
     "iopub.status.idle": "2023-06-16T18:32:50.579623Z",
     "shell.execute_reply": "2023-06-16T18:32:50.578589Z"
    },
    "papermill": {
     "duration": 0.025503,
     "end_time": "2023-06-16T18:32:50.581651",
     "exception": false,
     "start_time": "2023-06-16T18:32:50.556148",
     "status": "completed"
    },
    "tags": []
   },
   "outputs": [],
   "source": [
    "train_labels = train_tweetz['target']"
   ]
  },
  {
   "cell_type": "markdown",
   "id": "7630c624",
   "metadata": {
    "papermill": {
     "duration": 0.018125,
     "end_time": "2023-06-16T18:32:50.616654",
     "exception": false,
     "start_time": "2023-06-16T18:32:50.598529",
     "status": "completed"
    },
    "tags": []
   },
   "source": [
    "Splitting the data for our train and test purpose"
   ]
  },
  {
   "cell_type": "code",
   "execution_count": 21,
   "id": "b01a7cfb",
   "metadata": {
    "execution": {
     "iopub.execute_input": "2023-06-16T18:32:50.652875Z",
     "iopub.status.busy": "2023-06-16T18:32:50.652503Z",
     "iopub.status.idle": "2023-06-16T18:32:50.659388Z",
     "shell.execute_reply": "2023-06-16T18:32:50.658472Z"
    },
    "papermill": {
     "duration": 0.027652,
     "end_time": "2023-06-16T18:32:50.661711",
     "exception": false,
     "start_time": "2023-06-16T18:32:50.634059",
     "status": "completed"
    },
    "tags": []
   },
   "outputs": [],
   "source": [
    "X_train, X_test, y_train, y_test = train_test_split(train_data_padded, train_labels, test_size=0.2, random_state=42)"
   ]
  },
  {
   "cell_type": "markdown",
   "id": "bd30fd85",
   "metadata": {
    "papermill": {
     "duration": 0.016775,
     "end_time": "2023-06-16T18:32:50.696446",
     "exception": false,
     "start_time": "2023-06-16T18:32:50.679671",
     "status": "completed"
    },
    "tags": []
   },
   "source": [
    "# Training the Model "
   ]
  },
  {
   "cell_type": "markdown",
   "id": "fa494b0a",
   "metadata": {
    "papermill": {
     "duration": 0.016711,
     "end_time": "2023-06-16T18:32:50.730069",
     "exception": false,
     "start_time": "2023-06-16T18:32:50.713358",
     "status": "completed"
    },
    "tags": []
   },
   "source": [
    "# **Dense Neural Network:**"
   ]
  },
  {
   "cell_type": "code",
   "execution_count": 22,
   "id": "107d5627",
   "metadata": {
    "execution": {
     "iopub.execute_input": "2023-06-16T18:32:50.766761Z",
     "iopub.status.busy": "2023-06-16T18:32:50.766376Z",
     "iopub.status.idle": "2023-06-16T18:32:51.732719Z",
     "shell.execute_reply": "2023-06-16T18:32:51.731075Z"
    },
    "papermill": {
     "duration": 0.987039,
     "end_time": "2023-06-16T18:32:51.734585",
     "exception": true,
     "start_time": "2023-06-16T18:32:50.747546",
     "status": "failed"
    },
    "tags": []
   },
   "outputs": [
    {
     "ename": "NameError",
     "evalue": "name 'embed_dim' is not defined",
     "output_type": "error",
     "traceback": [
      "\u001b[0;31m---------------------------------------------------------------------------\u001b[0m",
      "\u001b[0;31mNameError\u001b[0m                                 Traceback (most recent call last)",
      "Cell \u001b[0;32mIn[22], line 3\u001b[0m\n\u001b[1;32m      1\u001b[0m \u001b[38;5;66;03m# Dense Neural Network model\u001b[39;00m\n\u001b[1;32m      2\u001b[0m model_dense \u001b[38;5;241m=\u001b[39m Sequential()\n\u001b[0;32m----> 3\u001b[0m model_dense\u001b[38;5;241m.\u001b[39madd(Embedding(max_features, \u001b[43membed_dim\u001b[49m,input_length \u001b[38;5;241m=\u001b[39m train_data_padded\u001b[38;5;241m.\u001b[39mshape[\u001b[38;5;241m1\u001b[39m]))\n\u001b[1;32m      4\u001b[0m model_dense\u001b[38;5;241m.\u001b[39madd(Dense(\u001b[38;5;241m32\u001b[39m, activation\u001b[38;5;241m=\u001b[39m\u001b[38;5;124m'\u001b[39m\u001b[38;5;124mrelu\u001b[39m\u001b[38;5;124m'\u001b[39m))\n\u001b[1;32m      5\u001b[0m model_dense\u001b[38;5;241m.\u001b[39madd(Dense(\u001b[38;5;241m1\u001b[39m, activation\u001b[38;5;241m=\u001b[39m\u001b[38;5;124m'\u001b[39m\u001b[38;5;124msigmoid\u001b[39m\u001b[38;5;124m'\u001b[39m))\n",
      "\u001b[0;31mNameError\u001b[0m: name 'embed_dim' is not defined"
     ]
    }
   ],
   "source": [
    "# Dense Neural Network model\n",
    "model_dense = Sequential()\n",
    "model_dense.add(Embedding(max_features, embed_dim,input_length = train_data_padded.shape[1]))\n",
    "model_dense.add(Dense(32, activation='relu'))\n",
    "model_dense.add(Dense(1, activation='sigmoid'))\n",
    "model_dense.compile(loss='binary_crossentropy', optimizer='adam', metrics=['accuracy'])\n",
    "model_dense.fit(X_train, y_train, epochs = 10, batch_size=32, validation_data=(X_test, y_test))\n"
   ]
  },
  {
   "cell_type": "code",
   "execution_count": null,
   "id": "b3bbf524",
   "metadata": {
    "execution": {
     "iopub.execute_input": "2023-06-16T18:02:41.278449Z",
     "iopub.status.busy": "2023-06-16T18:02:41.277978Z",
     "iopub.status.idle": "2023-06-16T18:02:41.525551Z",
     "shell.execute_reply": "2023-06-16T18:02:41.524512Z",
     "shell.execute_reply.started": "2023-06-16T18:02:41.278412Z"
    },
    "papermill": {
     "duration": null,
     "end_time": null,
     "exception": null,
     "start_time": null,
     "status": "pending"
    },
    "tags": []
   },
   "outputs": [],
   "source": [
    "y_pred = model_dense.predict(X_test)"
   ]
  },
  {
   "cell_type": "code",
   "execution_count": null,
   "id": "2049d27d",
   "metadata": {
    "execution": {
     "iopub.execute_input": "2023-06-16T18:02:57.554043Z",
     "iopub.status.busy": "2023-06-16T18:02:57.553630Z",
     "iopub.status.idle": "2023-06-16T18:02:58.878962Z",
     "shell.execute_reply": "2023-06-16T18:02:58.877956Z",
     "shell.execute_reply.started": "2023-06-16T18:02:57.554013Z"
    },
    "papermill": {
     "duration": null,
     "end_time": null,
     "exception": null,
     "start_time": null,
     "status": "pending"
    },
    "tags": []
   },
   "outputs": [],
   "source": [
    "train_accuracy = round(metrics.accuracy_score(y_train,model.predict(X_train).round())*100)\n",
    "train_accuracy"
   ]
  },
  {
   "cell_type": "markdown",
   "id": "b9354f5e",
   "metadata": {
    "papermill": {
     "duration": null,
     "end_time": null,
     "exception": null,
     "start_time": null,
     "status": "pending"
    },
    "tags": []
   },
   "source": [
    "# LTSM"
   ]
  },
  {
   "cell_type": "code",
   "execution_count": null,
   "id": "284aced1",
   "metadata": {
    "execution": {
     "iopub.execute_input": "2023-06-16T17:37:09.545556Z",
     "iopub.status.busy": "2023-06-16T17:37:09.545162Z",
     "iopub.status.idle": "2023-06-16T17:37:09.797038Z",
     "shell.execute_reply": "2023-06-16T17:37:09.795617Z",
     "shell.execute_reply.started": "2023-06-16T17:37:09.545522Z"
    },
    "papermill": {
     "duration": null,
     "end_time": null,
     "exception": null,
     "start_time": null,
     "status": "pending"
    },
    "tags": []
   },
   "outputs": [],
   "source": [
    "lstm_out = 32\n",
    "model = Sequential()\n",
    "max_features=3000\n",
    "embed_dim = 32\n",
    "model.add(Embedding(max_features, embed_dim,input_length = train_data_padded.shape[1]))\n",
    "model.add(Dropout(0.2))\n",
    "model.add(LSTM(lstm_out, dropout=0.2, recurrent_dropout=0.4))\n",
    "model.add(Dense(1,activation='sigmoid'))\n",
    "adam = optimizers.Adam(learning_rate=0.002)\n",
    "model.compile(loss = 'binary_crossentropy', optimizer=adam ,metrics = ['accuracy'])\n",
    "print(model.summary())"
   ]
  },
  {
   "cell_type": "code",
   "execution_count": null,
   "id": "b3b1999f",
   "metadata": {
    "execution": {
     "iopub.execute_input": "2023-06-16T17:37:11.388698Z",
     "iopub.status.busy": "2023-06-16T17:37:11.388378Z",
     "iopub.status.idle": "2023-06-16T17:37:55.051623Z",
     "shell.execute_reply": "2023-06-16T17:37:55.050145Z",
     "shell.execute_reply.started": "2023-06-16T17:37:11.388675Z"
    },
    "papermill": {
     "duration": null,
     "end_time": null,
     "exception": null,
     "start_time": null,
     "status": "pending"
    },
    "tags": []
   },
   "outputs": [],
   "source": [
    "model.fit(X_train, y_train, epochs = 10, batch_size=32, validation_data=(X_test, y_test))"
   ]
  },
  {
   "cell_type": "code",
   "execution_count": null,
   "id": "fdb64afa",
   "metadata": {
    "execution": {
     "iopub.execute_input": "2023-06-16T17:37:55.054461Z",
     "iopub.status.busy": "2023-06-16T17:37:55.054035Z",
     "iopub.status.idle": "2023-06-16T17:37:55.555548Z",
     "shell.execute_reply": "2023-06-16T17:37:55.554725Z",
     "shell.execute_reply.started": "2023-06-16T17:37:55.054427Z"
    },
    "papermill": {
     "duration": null,
     "end_time": null,
     "exception": null,
     "start_time": null,
     "status": "pending"
    },
    "tags": []
   },
   "outputs": [],
   "source": [
    "y_pred = model.predict(X_test)"
   ]
  },
  {
   "cell_type": "code",
   "execution_count": null,
   "id": "0543197c",
   "metadata": {
    "execution": {
     "iopub.execute_input": "2023-06-16T17:37:56.983248Z",
     "iopub.status.busy": "2023-06-16T17:37:56.982857Z",
     "iopub.status.idle": "2023-06-16T17:37:56.988578Z",
     "shell.execute_reply": "2023-06-16T17:37:56.987602Z",
     "shell.execute_reply.started": "2023-06-16T17:37:56.983223Z"
    },
    "papermill": {
     "duration": null,
     "end_time": null,
     "exception": null,
     "start_time": null,
     "status": "pending"
    },
    "tags": []
   },
   "outputs": [],
   "source": [
    "y_pred=np.round(y_pred)"
   ]
  },
  {
   "cell_type": "code",
   "execution_count": null,
   "id": "b039053f",
   "metadata": {
    "execution": {
     "iopub.execute_input": "2023-06-16T17:37:58.698555Z",
     "iopub.status.busy": "2023-06-16T17:37:58.698184Z",
     "iopub.status.idle": "2023-06-16T17:37:58.705470Z",
     "shell.execute_reply": "2023-06-16T17:37:58.704073Z",
     "shell.execute_reply.started": "2023-06-16T17:37:58.698527Z"
    },
    "papermill": {
     "duration": null,
     "end_time": null,
     "exception": null,
     "start_time": null,
     "status": "pending"
    },
    "tags": []
   },
   "outputs": [],
   "source": [
    "y_pred.shape"
   ]
  },
  {
   "cell_type": "code",
   "execution_count": null,
   "id": "8940b4c4",
   "metadata": {
    "execution": {
     "iopub.execute_input": "2023-06-16T17:38:00.204913Z",
     "iopub.status.busy": "2023-06-16T17:38:00.204497Z",
     "iopub.status.idle": "2023-06-16T17:38:01.069715Z",
     "shell.execute_reply": "2023-06-16T17:38:01.068227Z",
     "shell.execute_reply.started": "2023-06-16T17:38:00.204883Z"
    },
    "papermill": {
     "duration": null,
     "end_time": null,
     "exception": null,
     "start_time": null,
     "status": "pending"
    },
    "tags": []
   },
   "outputs": [],
   "source": [
    "\n",
    "train_accuracy = round(metrics.accuracy_score(y_train,model.predict(X_train).round())*100)\n",
    "train_accuracy"
   ]
  },
  {
   "cell_type": "code",
   "execution_count": null,
   "id": "e6c02fd3",
   "metadata": {
    "execution": {
     "iopub.execute_input": "2023-06-16T17:38:14.307077Z",
     "iopub.status.busy": "2023-06-16T17:38:14.306744Z",
     "iopub.status.idle": "2023-06-16T17:38:14.312455Z",
     "shell.execute_reply": "2023-06-16T17:38:14.311197Z",
     "shell.execute_reply.started": "2023-06-16T17:38:14.307055Z"
    },
    "papermill": {
     "duration": null,
     "end_time": null,
     "exception": null,
     "start_time": null,
     "status": "pending"
    },
    "tags": []
   },
   "outputs": [],
   "source": [
    "test_labels = np.array(train_tweetz['target'][:1523])"
   ]
  },
  {
   "cell_type": "code",
   "execution_count": null,
   "id": "c02de253",
   "metadata": {
    "execution": {
     "iopub.execute_input": "2023-06-16T17:39:06.409689Z",
     "iopub.status.busy": "2023-06-16T17:39:06.409307Z",
     "iopub.status.idle": "2023-06-16T17:39:06.611193Z",
     "shell.execute_reply": "2023-06-16T17:39:06.609959Z",
     "shell.execute_reply.started": "2023-06-16T17:39:06.409661Z"
    },
    "papermill": {
     "duration": null,
     "end_time": null,
     "exception": null,
     "start_time": null,
     "status": "pending"
    },
    "tags": []
   },
   "outputs": [],
   "source": [
    "cm_dense = confusion_matrix(test_labels, y_pred)\n",
    "sns.heatmap(cm_dense, annot=True, fmt='d', cmap='Blues')\n",
    "plt.xlabel('Predicted')\n",
    "plt.ylabel('True')\n",
    "plt.title('Confusion Matrix - Dense Neural Network')\n",
    "plt.show()"
   ]
  },
  {
   "cell_type": "markdown",
   "id": "6327019d",
   "metadata": {
    "papermill": {
     "duration": null,
     "end_time": null,
     "exception": null,
     "start_time": null,
     "status": "pending"
    },
    "tags": []
   },
   "source": [
    "# **GRU**"
   ]
  },
  {
   "cell_type": "code",
   "execution_count": null,
   "id": "4f1b0d16",
   "metadata": {
    "execution": {
     "iopub.execute_input": "2023-06-16T17:39:47.282236Z",
     "iopub.status.busy": "2023-06-16T17:39:47.281833Z",
     "iopub.status.idle": "2023-06-16T17:40:27.817084Z",
     "shell.execute_reply": "2023-06-16T17:40:27.816284Z",
     "shell.execute_reply.started": "2023-06-16T17:39:47.282210Z"
    },
    "papermill": {
     "duration": null,
     "end_time": null,
     "exception": null,
     "start_time": null,
     "status": "pending"
    },
    "tags": []
   },
   "outputs": [],
   "source": [
    "# GRU model\n",
    "model_gru = Sequential()\n",
    "model_gru.add((Embedding(max_features, embed_dim,input_length = train_data_padded.shape[1])))\n",
    "model_gru.add(GRU(32, return_sequences=True))\n",
    "model_gru.add(GRU(32))\n",
    "model_gru.add(Dense(1, activation='sigmoid'))\n",
    "model_gru.compile(loss='binary_crossentropy', optimizer='adam', metrics=['accuracy'])\n",
    "model_gru.fit(X_train, y_train, epochs = 10, batch_size=32, validation_data=(X_test, y_test))\n"
   ]
  },
  {
   "cell_type": "code",
   "execution_count": null,
   "id": "a6e8a2ef",
   "metadata": {
    "execution": {
     "iopub.execute_input": "2023-06-16T17:40:30.660265Z",
     "iopub.status.busy": "2023-06-16T17:40:30.658678Z",
     "iopub.status.idle": "2023-06-16T17:40:32.298456Z",
     "shell.execute_reply": "2023-06-16T17:40:32.297311Z",
     "shell.execute_reply.started": "2023-06-16T17:40:30.660218Z"
    },
    "papermill": {
     "duration": null,
     "end_time": null,
     "exception": null,
     "start_time": null,
     "status": "pending"
    },
    "tags": []
   },
   "outputs": [],
   "source": [
    "train_accuracy = round(metrics.accuracy_score(y_train,model_gru.predict(X_train).round())*100)\n",
    "train_accuracy"
   ]
  },
  {
   "cell_type": "code",
   "execution_count": null,
   "id": "7ae9d3c1",
   "metadata": {
    "execution": {
     "iopub.execute_input": "2023-06-16T17:41:39.492942Z",
     "iopub.status.busy": "2023-06-16T17:41:39.492590Z",
     "iopub.status.idle": "2023-06-16T17:41:39.553272Z",
     "shell.execute_reply": "2023-06-16T17:41:39.552264Z",
     "shell.execute_reply.started": "2023-06-16T17:41:39.492919Z"
    },
    "papermill": {
     "duration": null,
     "end_time": null,
     "exception": null,
     "start_time": null,
     "status": "pending"
    },
    "tags": []
   },
   "outputs": [],
   "source": [
    "l =50\n",
    "test_token = tokenizer.texts_to_sequences(test_tweetz['text'].values)\n",
    "test_token = pad_sequences(test_token, maxlen =l)"
   ]
  },
  {
   "cell_type": "code",
   "execution_count": null,
   "id": "b9b24f92",
   "metadata": {
    "execution": {
     "iopub.execute_input": "2023-06-16T17:41:42.567499Z",
     "iopub.status.busy": "2023-06-16T17:41:42.567149Z",
     "iopub.status.idle": "2023-06-16T17:41:44.214717Z",
     "shell.execute_reply": "2023-06-16T17:41:44.213576Z",
     "shell.execute_reply.started": "2023-06-16T17:41:42.567477Z"
    },
    "papermill": {
     "duration": null,
     "end_time": null,
     "exception": null,
     "start_time": null,
     "status": "pending"
    },
    "tags": []
   },
   "outputs": [],
   "source": [
    "y_hat = model_gru.predict(test_token).round()\n",
    "submission = pd.read_csv(\"/kaggle/input/nlp-getting-started/sample_submission.csv\")\n",
    "submission['target'] = np.round(y_hat).astype('int')\n",
    "submission.to_csv('submission.csv', index=False)\n",
    "submission.describe().style.background_gradient(cmap='coolwarm')"
   ]
  },
  {
   "cell_type": "markdown",
   "id": "8eb2a617",
   "metadata": {
    "papermill": {
     "duration": null,
     "end_time": null,
     "exception": null,
     "start_time": null,
     "status": "pending"
    },
    "tags": []
   },
   "source": [
    "# HyperParameter Tuning "
   ]
  },
  {
   "cell_type": "code",
   "execution_count": null,
   "id": "b0929eaf",
   "metadata": {
    "execution": {
     "iopub.execute_input": "2023-06-16T18:09:45.190619Z",
     "iopub.status.busy": "2023-06-16T18:09:45.190231Z",
     "iopub.status.idle": "2023-06-16T18:22:59.822625Z",
     "shell.execute_reply": "2023-06-16T18:22:59.821036Z",
     "shell.execute_reply.started": "2023-06-16T18:09:45.190589Z"
    },
    "papermill": {
     "duration": null,
     "end_time": null,
     "exception": null,
     "start_time": null,
     "status": "pending"
    },
    "tags": []
   },
   "outputs": [],
   "source": [
    "from sklearn.model_selection import GridSearchCV\n",
    "from keras.wrappers.scikit_learn import KerasClassifier\n",
    "from keras.layers import GRU\n",
    "\n",
    "# Function to create the GRU model\n",
    "def create_model(gru_units=128, dropout_rate=0.2):\n",
    "    model = Sequential()\n",
    "    model.add((Embedding(max_features, embed_dim,input_length = train_data_padded.shape[1])))\n",
    "    model.add(GRU(units=gru_units, dropout=dropout_rate))\n",
    "    model.add(Dense(units=1, activation='sigmoid'))\n",
    "    model.compile(loss='binary_crossentropy', optimizer='adam', metrics=['accuracy'])\n",
    "    return model\n",
    "\n",
    "# Create a KerasClassifier with the GRU model\n",
    "model = KerasClassifier(build_fn=create_model, epochs=10, batch_size=32, verbose=0)\n",
    "\n",
    "# Define the hyperparameters to tune\n",
    "param_grid = {\n",
    "    'gru_units': [64, 128, 256],\n",
    "    'dropout_rate': [0.2, 0.4, 0.6]\n",
    "}\n",
    "\n",
    "# Perform grid search\n",
    "grid = GridSearchCV(estimator=model, param_grid=param_grid, cv=3)\n",
    "grid_result = grid.fit(X_train, y_train)\n",
    "\n",
    "# Print the best hyperparameters and the corresponding accuracy\n",
    "print(\"Best Hyperparameters: \", grid_result.best_params_)\n",
    "print(\"Best Accuracy: \", grid_result.best_score_)"
   ]
  },
  {
   "cell_type": "markdown",
   "id": "6b321698",
   "metadata": {
    "papermill": {
     "duration": null,
     "end_time": null,
     "exception": null,
     "start_time": null,
     "status": "pending"
    },
    "tags": []
   },
   "source": [
    "\n",
    "Discussion\n",
    "\n",
    "The final score is 0.764 from this submission.\n",
    "\n",
    "The learning in this projects are as follows.\n",
    "\n",
    "The thing that worked in this dataset and model:\n",
    "\n",
    "    How to prepare the text.\n",
    "    How to visualize the text, word count, etc.\n",
    "    Passing the text to Dense layer,LTSm and GRU\n",
    "    GRU RNN layers worked well instead of LSTM\n",
    "\n",
    "\n",
    "\n",
    "The future feature that might help:\n",
    "\n",
    "    Data augmentation to less data, disaster tweets.\n",
    "    \n",
    "    Try other preprocessing text before feeding them to embedding.\n",
    "\n",
    "Summary\n",
    "\n",
    "We get final score 0.764  for this competition. Our model is text binary classifier based on universal sentence encoder. \n"
   ]
  },
  {
   "cell_type": "markdown",
   "id": "222449d5",
   "metadata": {
    "papermill": {
     "duration": null,
     "end_time": null,
     "exception": null,
     "start_time": null,
     "status": "pending"
    },
    "tags": []
   },
   "source": [
    "\n",
    "# References\n",
    "\n",
    "    This notebook's github repo: https://github.com/Akitsuyoshi/intro_dl_week4\n",
    "    NLP intro guide in kaggle: https://www.kaggle.com/code/jhoward/getting-started-with-nlp-for-absolute-beginners\n",
    "    Tutorial for transfer learning in Keras: https://amitness.com/2020/02/tensorflow-hub-for-transfer-learning/\n",
    "    Official docs of universal-sentence-encoder: https://tfhub.dev/google/universal-sentence-encoder/4\n",
    "    RNN model's implementation example for NLP: https://www.kaggle.com/code/abhishek/approaching-almost-any-nlp-problem-on-kaggle/notebook\n",
    "    Preprocess concept when using transfer learning as embedding layer: https://www.kaggle.com/code/christofhenkel/how-to-preprocessing-when-using-embeddings/notebook\n",
    "    Tokenizer for sentence encoder: https://github.com/tensorflow/hub/issues/662\n",
    "    CNN for image task: https://www.kaggle.com/code/akitsuyoshi/cnn-using-transfer-learning-in-keras\n",
    "\n"
   ]
  },
  {
   "cell_type": "code",
   "execution_count": null,
   "id": "8bb34e8a",
   "metadata": {
    "papermill": {
     "duration": null,
     "end_time": null,
     "exception": null,
     "start_time": null,
     "status": "pending"
    },
    "tags": []
   },
   "outputs": [],
   "source": []
  },
  {
   "cell_type": "code",
   "execution_count": null,
   "id": "2f0a39a3",
   "metadata": {
    "papermill": {
     "duration": null,
     "end_time": null,
     "exception": null,
     "start_time": null,
     "status": "pending"
    },
    "tags": []
   },
   "outputs": [],
   "source": []
  }
 ],
 "metadata": {
  "kernelspec": {
   "display_name": "Python 3",
   "language": "python",
   "name": "python3"
  },
  "language_info": {
   "codemirror_mode": {
    "name": "ipython",
    "version": 3
   },
   "file_extension": ".py",
   "mimetype": "text/x-python",
   "name": "python",
   "nbconvert_exporter": "python",
   "pygments_lexer": "ipython3",
   "version": "3.10.10"
  },
  "papermill": {
   "default_parameters": {},
   "duration": 34.566321,
   "end_time": "2023-06-16T18:32:54.376587",
   "environment_variables": {},
   "exception": true,
   "input_path": "__notebook__.ipynb",
   "output_path": "__notebook__.ipynb",
   "parameters": {},
   "start_time": "2023-06-16T18:32:19.810266",
   "version": "2.4.0"
  }
 },
 "nbformat": 4,
 "nbformat_minor": 5
}
